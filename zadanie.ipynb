{
 "cells": [
  {
   "cell_type": "code",
   "outputs": [],
   "source": [
    "import sympy as sp\n",
    "from sympy import Eq, solve, sqrt, pi, symbols"
   ],
   "metadata": {
    "collapsed": false,
    "ExecuteTime": {
     "end_time": "2024-02-06T13:44:37.644522600Z",
     "start_time": "2024-02-06T13:44:37.632499100Z"
    }
   },
   "id": "f43124b3bc963acb",
   "execution_count": 261
  },
  {
   "cell_type": "code",
   "outputs": [],
   "source": [
    "sp.init_printing()"
   ],
   "metadata": {
    "collapsed": false,
    "ExecuteTime": {
     "end_time": "2024-02-06T13:44:37.710570500Z",
     "start_time": "2024-02-06T13:44:37.649515500Z"
    }
   },
   "id": "c0fdadc7dcaade27",
   "execution_count": 262
  },
  {
   "cell_type": "code",
   "outputs": [],
   "source": [
    "# Symbole\n",
    "x = sp.Symbol('x', real=True)\n",
    "k = sp.Symbol('k', real=True, positive=True)\n",
    "a = sp.Symbol('a', real=True)\n",
    "m = sp.Symbol('m', real=True, positive=True)\n",
    "t = sp.Symbol('t', real=True, positive=True)\n",
    "h = sp.Symbol('hbar', real=True, positive=True)\n",
    "n = sp.Symbol('n', integer=True, nonzero=True)\n",
    "psi = sp.Function('psi')\n"
   ],
   "metadata": {
    "collapsed": false,
    "ExecuteTime": {
     "end_time": "2024-02-06T13:44:37.712572500Z",
     "start_time": "2024-02-06T13:44:37.655520900Z"
    }
   },
   "id": "ec4a72f4019a91cf",
   "execution_count": 263
  },
  {
   "cell_type": "code",
   "outputs": [
    {
     "data": {
      "text/plain": "  2                 \n d            2     \n───(ψ(x)) = -k ⋅ψ(x)\n  2                 \ndx                  ",
      "image/png": "[encoded data removed]",
      "text/latex": "$\\displaystyle \\frac{d^{2}}{d x^{2}} \\psi{\\left(x \\right)} = - k^{2} \\psi{\\left(x \\right)}$"
     },
     "execution_count": 264,
     "metadata": {},
     "output_type": "execute_result"
    }
   ],
   "source": [
    "eq = sp.Eq(psi(x).diff(x, x), -k**2 * psi(x))\n",
    "eq"
   ],
   "metadata": {
    "collapsed": false,
    "ExecuteTime": {
     "end_time": "2024-02-06T13:44:37.742600100Z",
     "start_time": "2024-02-06T13:44:37.672546800Z"
    }
   },
   "id": "5a2bf0dac8854a8a",
   "execution_count": 264
  },
  {
   "cell_type": "code",
   "outputs": [
    {
     "data": {
      "text/plain": "ψ(x) = C₁⋅sin(k⋅x) + C₂⋅cos(k⋅x)",
      "image/png": "[encoded data removed]",
      "text/latex": "$\\displaystyle \\psi{\\left(x \\right)} = C_{1} \\sin{\\left(k x \\right)} + C_{2} \\cos{\\left(k x \\right)}$"
     },
     "execution_count": 265,
     "metadata": {},
     "output_type": "execute_result"
    }
   ],
   "source": [
    "# Rozwiązanie równania Schrödingera\n",
    "sol = sp.dsolve(eq, psi(x))\n",
    "sol"
   ],
   "metadata": {
    "collapsed": false,
    "ExecuteTime": {
     "end_time": "2024-02-06T13:44:37.861710700Z",
     "start_time": "2024-02-06T13:44:37.735594300Z"
    }
   },
   "id": "10eab0ac0ac019a4",
   "execution_count": 265
  },
  {
   "cell_type": "code",
   "outputs": [
    {
     "data": {
      "text/plain": "ψ(x) = C₁⋅sin(k⋅x)",
      "image/png": "[encoded data removed]",
      "text/latex": "$\\displaystyle \\psi{\\left(x \\right)} = C_{1} \\sin{\\left(k x \\right)}$"
     },
     "execution_count": 266,
     "metadata": {},
     "output_type": "execute_result"
    }
   ],
   "source": [
    "sol = sp.dsolve(eq, psi(x), ics={psi(0): 0})\n",
    "sol"
   ],
   "metadata": {
    "collapsed": false,
    "ExecuteTime": {
     "end_time": "2024-02-06T13:44:37.971811700Z",
     "start_time": "2024-02-06T13:44:37.861710700Z"
    }
   },
   "id": "67910bf34421d67",
   "execution_count": 266
  },
  {
   "cell_type": "code",
   "outputs": [
    {
     "data": {
      "text/plain": "             ⎛π⋅n⋅x⎞\nψ(x) = C₁⋅sin⎜─────⎟\n             ⎝  a  ⎠",
      "image/png": "[encoded data removed]",
      "text/latex": "$\\displaystyle \\psi{\\left(x \\right)} = C_{1} \\sin{\\left(\\frac{\\pi n x}{a} \\right)}$"
     },
     "execution_count": 267,
     "metadata": {},
     "output_type": "execute_result"
    }
   ],
   "source": [
    "sol = sol.subs(k, n * sp.pi / a)\n",
    "sol"
   ],
   "metadata": {
    "collapsed": false,
    "ExecuteTime": {
     "end_time": "2024-02-06T13:44:38.035870400Z",
     "start_time": "2024-02-06T13:44:37.974813700Z"
    }
   },
   "id": "d607cb41d86cab2c",
   "execution_count": 267
  },
  {
   "cell_type": "code",
   "outputs": [
    {
     "data": {
      "text/plain": "              ___           \n             ╱ 1     ⎛π⋅n⋅x⎞\nψ(x) = √2⋅  ╱  ─ ⋅sin⎜─────⎟\n          ╲╱   a     ⎝  a  ⎠",
      "image/png": "[encoded data removed]",
      "text/latex": "$\\displaystyle \\psi{\\left(x \\right)} = \\sqrt{2} \\sqrt{\\frac{1}{a}} \\sin{\\left(\\frac{\\pi n x}{a} \\right)}$"
     },
     "execution_count": 268,
     "metadata": {},
     "output_type": "execute_result"
    }
   ],
   "source": [
    "sol = sol.subs(sp.Symbol('C1'), sp.sqrt(2 / a))\n",
    "sol"
   ],
   "metadata": {
    "collapsed": false,
    "ExecuteTime": {
     "end_time": "2024-02-06T13:44:38.104932600Z",
     "start_time": "2024-02-06T13:44:38.037871Z"
    }
   },
   "id": "b0e18460d4abf7bf",
   "execution_count": 268
  },
  {
   "cell_type": "code",
   "outputs": [
    {
     "data": {
      "text/plain": "       2⎛π⋅n⋅x⎞\n2⋅x⋅sin ⎜─────⎟\n        ⎝  a  ⎠\n───────────────\n       a       ",
      "image/png": "[encoded data removed]",
      "text/latex": "$\\displaystyle \\frac{2 x \\sin^{2}{\\left(\\frac{\\pi n x}{a} \\right)}}{a}$"
     },
     "execution_count": 269,
     "metadata": {},
     "output_type": "execute_result"
    }
   ],
   "source": [
    "sol.rhs * x * sol.rhs"
   ],
   "metadata": {
    "collapsed": false,
    "ExecuteTime": {
     "end_time": "2024-02-06T13:44:38.149977800Z",
     "start_time": "2024-02-06T13:44:38.099928400Z"
    }
   },
   "id": "3a149e9097550a4c",
   "execution_count": 269
  },
  {
   "cell_type": "code",
   "outputs": [
    {
     "data": {
      "text/plain": "a\n─\n2",
      "image/png": "[encoded data removed]",
      "text/latex": "$\\displaystyle \\frac{a}{2}$"
     },
     "execution_count": 270,
     "metadata": {},
     "output_type": "execute_result"
    }
   ],
   "source": [
    "# Wartości oczekiwane\n",
    "x_expectation = sp.integrate(sol.rhs * x * sol.rhs, (x, 0, a)).simplify()\n",
    "x_expectation"
   ],
   "metadata": {
    "collapsed": false,
    "ExecuteTime": {
     "end_time": "2024-02-06T13:44:38.291118Z",
     "start_time": "2024-02-06T13:44:38.147972200Z"
    }
   },
   "id": "4c5c1cbaef00e458",
   "execution_count": 270
  },
  {
   "cell_type": "code",
   "outputs": [
    {
     "data": {
      "text/plain": " 2       2  \na       a   \n── - ───────\n3       2  2\n     2⋅π ⋅n ",
      "image/png": "[encoded data removed]",
      "text/latex": "$\\displaystyle \\frac{a^{2}}{3} - \\frac{a^{2}}{2 \\pi^{2} n^{2}}$"
     },
     "execution_count": 271,
     "metadata": {},
     "output_type": "execute_result"
    }
   ],
   "source": [
    "x_squared_expectation = sp.integrate(sol.rhs * x**2 * sol.rhs, (x, 0, a)).simplify()\n",
    "x_squared_expectation"
   ],
   "metadata": {
    "collapsed": false,
    "ExecuteTime": {
     "end_time": "2024-02-06T13:44:38.499648200Z",
     "start_time": "2024-02-06T13:44:38.293130300Z"
    }
   },
   "id": "b33e85a5605acc1d",
   "execution_count": 271
  },
  {
   "cell_type": "code",
   "outputs": [
    {
     "data": {
      "text/plain": "0",
      "image/png": "[encoded data removed]",
      "text/latex": "$\\displaystyle 0$"
     },
     "execution_count": 272,
     "metadata": {},
     "output_type": "execute_result"
    }
   ],
   "source": [
    "p_expectation = sp.integrate(sol.rhs * sp.I * h * sol.rhs.diff(x), (x, 0, a)).simplify()\n",
    "p_expectation"
   ],
   "metadata": {
    "collapsed": false,
    "ExecuteTime": {
     "end_time": "2024-02-06T13:44:39.515248400Z",
     "start_time": "2024-02-06T13:44:38.502640100Z"
    }
   },
   "id": "abdf6c1ee5cee988",
   "execution_count": 272
  },
  {
   "cell_type": "code",
   "outputs": [
    {
     "data": {
      "text/plain": " 2  2  2\nπ ⋅h̅ ⋅n \n────────\n    2   \n   a    ",
      "image/png": "[encoded data removed]",
      "text/latex": "$\\displaystyle \\frac{\\pi^{2} \\hbar^{2} n^{2}}{a^{2}}$"
     },
     "execution_count": 273,
     "metadata": {},
     "output_type": "execute_result"
    }
   ],
   "source": [
    "p_squared_expectation = sp.integrate(sol.rhs * (-h**2 * sol.rhs.diff(x, x)), (x, 0, a)).simplify()\n",
    "p_squared_expectation"
   ],
   "metadata": {
    "collapsed": false,
    "ExecuteTime": {
     "end_time": "2024-02-06T13:44:39.578305900Z",
     "start_time": "2024-02-06T13:44:39.514249200Z"
    }
   },
   "id": "5d91075b232ca2c1",
   "execution_count": 273
  },
  {
   "cell_type": "code",
   "outputs": [
    {
     "data": {
      "text/plain": "π⋅h̅⋅│n│\n───────\n  │a│  ",
      "image/png": "[encoded data removed]",
      "text/latex": "$\\displaystyle \\frac{\\pi \\hbar \\left|{n}\\right|}{\\left|{a}\\right|}$"
     },
     "execution_count": 274,
     "metadata": {},
     "output_type": "execute_result"
    }
   ],
   "source": [
    "x = sp.sqrt(p_squared_expectation)\n",
    "x"
   ],
   "metadata": {
    "collapsed": false,
    "ExecuteTime": {
     "end_time": "2024-02-06T13:44:39.625349300Z",
     "start_time": "2024-02-06T13:44:39.578305900Z"
    }
   },
   "id": "bb30d26382c8127c",
   "execution_count": 274
  },
  {
   "cell_type": "code",
   "outputs": [
    {
     "data": {
      "text/plain": "      ______________\n     ╱  2       2   \n    ╱  a       a    \n   ╱   ── - ─────── \n  ╱    12      2  2 \n╲╱          2⋅π ⋅n  ",
      "image/png": "[encoded data removed]",
      "text/latex": "$\\displaystyle \\sqrt{\\frac{a^{2}}{12} - \\frac{a^{2}}{2 \\pi^{2} n^{2}}}$"
     },
     "execution_count": 275,
     "metadata": {},
     "output_type": "execute_result"
    }
   ],
   "source": [
    "# Odchylenia standardowe\n",
    "sigma_X = sp.sqrt(x_squared_expectation - x_expectation**2)\n",
    "sigma_X"
   ],
   "metadata": {
    "collapsed": false,
    "ExecuteTime": {
     "end_time": "2024-02-06T13:44:39.690408600Z",
     "start_time": "2024-02-06T13:44:39.626349700Z"
    }
   },
   "id": "ff359febbb35d668",
   "execution_count": 275
  },
  {
   "cell_type": "code",
   "outputs": [
    {
     "data": {
      "text/plain": "π⋅h̅⋅│n│\n───────\n  │a│  ",
      "image/png": "[encoded data removed]",
      "text/latex": "$\\displaystyle \\frac{\\pi \\hbar \\left|{n}\\right|}{\\left|{a}\\right|}$"
     },
     "execution_count": 276,
     "metadata": {},
     "output_type": "execute_result"
    }
   ],
   "source": [
    "sigma_P = sp.sqrt(p_squared_expectation - p_expectation**2)\n",
    "sigma_P"
   ],
   "metadata": {
    "collapsed": false,
    "ExecuteTime": {
     "end_time": "2024-02-06T13:44:39.738452700Z",
     "start_time": "2024-02-06T13:44:39.690408600Z"
    }
   },
   "id": "ee87deaf087514d8",
   "execution_count": 276
  },
  {
   "cell_type": "code",
   "outputs": [
    {
     "data": {
      "text/plain": "         ______________\n        ╱    2  2      \nh̅   h̅⋅╲╱  3⋅π ⋅n  - 18 \n─ ≤ ───────────────────\n2            6         ",
      "image/png": "[encoded data removed]",
      "text/latex": "$\\displaystyle \\frac{\\hbar}{2} \\leq \\frac{\\hbar \\sqrt{3 \\pi^{2} n^{2} - 18}}{6}$"
     },
     "execution_count": 277,
     "metadata": {},
     "output_type": "execute_result"
    }
   ],
   "source": [
    "heisenberg_inequality = (sigma_X * sigma_P >= h / 2).simplify()\n",
    "heisenberg_inequality"
   ],
   "metadata": {
    "collapsed": false,
    "ExecuteTime": {
     "end_time": "2024-02-06T13:44:39.946643600Z",
     "start_time": "2024-02-06T13:44:39.738452700Z"
    }
   },
   "id": "8fb7511bff73fd1c",
   "execution_count": 277
  },
  {
   "cell_type": "code",
   "outputs": [
    {
     "name": "stdout",
     "output_type": "stream",
     "text": [
      "n >=  [-3/pi, 3/pi]\n"
     ]
    }
   ],
   "source": [
    "n = symbols('n')\n",
    "inequality = Eq(h * 1/2, h * sqrt(3 * (pi**2) * (n**2) - 18) / 6)\n",
    "solution = solve(inequality, n)\n",
    "\n",
    "\n",
    "print(f\"n >=  {solution}\")\n"
   ],
   "metadata": {
    "collapsed": false,
    "ExecuteTime": {
     "end_time": "2024-02-06T13:44:40.106789900Z",
     "start_time": "2024-02-06T13:44:39.947644600Z"
    }
   },
   "id": "e4fa315fe8fe2345",
   "execution_count": 278
  },
  {
   "cell_type": "code",
   "outputs": [
    {
     "data": {
      "text/plain": "⎡-3   3⎤\n⎢───, ─⎥\n⎣ π   π⎦",
      "image/png": "[encoded data removed]",
      "text/latex": "$\\displaystyle \\left[ - \\frac{3}{\\pi}, \\  \\frac{3}{\\pi}\\right]$"
     },
     "execution_count": 279,
     "metadata": {},
     "output_type": "execute_result"
    }
   ],
   "source": [
    "solution"
   ],
   "metadata": {
    "collapsed": false,
    "ExecuteTime": {
     "end_time": "2024-02-06T13:44:40.158838100Z",
     "start_time": "2024-02-06T13:44:40.106789900Z"
    }
   },
   "id": "abecfca1a1a9f586",
   "execution_count": 279
  },
  {
   "cell_type": "code",
   "outputs": [],
   "source": [],
   "metadata": {
    "collapsed": false,
    "ExecuteTime": {
     "end_time": "2024-02-06T13:44:40.170849600Z",
     "start_time": "2024-02-06T13:44:40.154836800Z"
    }
   },
   "id": "55299d90d04eb332",
   "execution_count": 279
  }
 ],
 "metadata": {
  "kernelspec": {
   "display_name": "Python 3",
   "language": "python",
   "name": "python3"
  },
  "language_info": {
   "codemirror_mode": {
    "name": "ipython",
    "version": 2
   },
   "file_extension": ".py",
   "mimetype": "text/x-python",
   "name": "python",
   "nbconvert_exporter": "python",
   "pygments_lexer": "ipython2",
   "version": "2.7.6"
  }
 },
 "nbformat": 4,
 "nbformat_minor": 5
}
